{
 "cells": [
  {
   "cell_type": "markdown",
   "id": "86381350",
   "metadata": {},
   "source": [
    "# \"Les nombres à virgule\"\n",
    "\n",
    "> \"La notation des flottants, les nombres réels, en binaire.\"\n",
    "\n",
    "- toc : false"
   ]
  },
  {
   "cell_type": "markdown",
   "id": "47ebd454",
   "metadata": {},
   "source": [
    "Dans les langages de programmation comme Python, les nombres à virgule sont appelés des flottants et se notent avec un point. Par exemple, le nombre $2,5$ se note $2.5$.\n",
    "\n",
    "- La partie entière est composée de puissances de 2 positives;\n",
    "- La partie après la virgule (ou le point), est composée de puissances de 2 négatives.\n",
    "\n",
    "> Exemple:\n",
    "    \\begin{align*}\n",
    "    24,53_{10} &= 2 \\times 10^{1} + 4 \\times 10^{0} + 5 \\times 10^{-1} + 3 \\times 10^{-2}\\\\\n",
    "    10,01_{2} &= 1 \\times 2^{1} + 0 \\times 2^{0} + 0 \\times 2^{-1} + 1 \\times 2^{-2}\\\\\n",
    "    \\end{align*}\n",
    "\n",
    "## Conversion binaire - décimale\n",
    "\n",
    "Pour convertir un nombre binaire en nombre décimal, on calcule la somme des puissances de 2 positives et négatives non nulles. On rappelle quelques valeurs de puissances de 2.\n",
    "\n",
    "|$2^{1}$|$2^{0}$|$2^{-1}$|$2^{-2}$|$2^{-3}$|$2^{-4}$|$2^{-5}$|\n",
    "|:-----:|:-----:|:------:|:------:|:------:|:------:|:------:|\n",
    "|$2$|$1$|$0,5$|$0,25$|$0,125$|$0,0625$|$0,03125$|\n",
    "\n",
    "> #### Exemple    \n",
    "Conversion du nombre binaire $1,01_{2}$ en base $10$.    \n",
    "$1,01_{2}=1 \\times 2^{0} + 0 \\times 2^{-1} + 1 \\times 2^{-2} = 1+0+0,25 = 1,25_{10}$"
   ]
  },
  {
   "cell_type": "markdown",
   "id": "c88bd2f5",
   "metadata": {},
   "source": [
    "### Méthode\n",
    "Pour convertir un nombre en écriture décimale en binaire (cas le plus fréquent puisque nous saisissons des nombres en base 10), nous procédons en deux temps.\n",
    "1. Conversion de la partier entière avec la méthode des soustractions ou divisions successives;\n",
    "2. Conversion de la partie après la vigule par multiplications par 2 successives. Après chaque multiplication par 2, on retire la partie entière obtenue et on recommence  jusqu'à obtenir la valeur 1.\n",
    "\n",
    "> Exemple:\n",
    "Conversion du nombre $3,875$ en binaire:\n",
    "1. La partie entière : $3_{10}=11_{2}$\n",
    "2. La partie après la virgule : \n",
    "\\begin{align*}\n",
    "0,875 \\times 2 = 1,75\\\\\n",
    "0,75 \\times 2 = 1,5\\\\\n",
    "0,5 \\times 2 =1\n",
    "\\end{align*}\n",
    "\n",
    "---\n",
    "#### Exercice\n",
    "Donner l'écriture binaire du nombre $5,6875$.\n",
    "\n",
    "#### Exercice\n",
    "Donner l'écriture binaire du nombre $0.2$. Que remaque-t-on ?"
   ]
  },
  {
   "cell_type": "markdown",
   "id": "fe8c3a73",
   "metadata": {},
   "source": [
    "## Conclusion\n",
    "\n",
    "Les nombres à virgule ont une écriture binaire. Dans certains cas, la partie après la virgule est infinie. Comme la machine alloue un nombre de bits fini, la valeur est donc approchée et peut alors générer des erreurs dans les calculs.\n",
    "\n",
    "#### Exemple\n",
    "La valeur obtenue par le calcul $0,1+0,2$ en binaire est une valeur approchée qui s'approche de la valeur exacte $0,3$. Les nombres $0,1$ et $0,2$ ont une partie après la virgule infinie donc approchée par la machine. Le nombre $0,3$ a lui aussi une valeur approchée par la machine.\n",
    "\n",
    "Ci-dessous, des calculs effectués par Python qui montre ces approximations."
   ]
  },
  {
   "cell_type": "code",
   "execution_count": 1,
   "id": "b93e8869",
   "metadata": {},
   "outputs": [
    {
     "data": {
      "text/plain": [
       "0.30000000000000004"
      ]
     },
     "execution_count": 1,
     "metadata": {},
     "output_type": "execute_result"
    }
   ],
   "source": [
    "0.1+0.2"
   ]
  },
  {
   "cell_type": "code",
   "execution_count": 2,
   "id": "2745f15b",
   "metadata": {},
   "outputs": [
    {
     "data": {
      "text/plain": [
       "0.30000000000000004"
      ]
     },
     "execution_count": 2,
     "metadata": {},
     "output_type": "execute_result"
    }
   ],
   "source": [
    "0.1*3"
   ]
  },
  {
   "cell_type": "code",
   "execution_count": 9,
   "id": "82330432",
   "metadata": {},
   "outputs": [
    {
     "data": {
      "text/plain": [
       "0.30000000000000004"
      ]
     },
     "execution_count": 9,
     "metadata": {},
     "output_type": "execute_result"
    }
   ],
   "source": [
    "0.1+0.1+0.1"
   ]
  },
  {
   "cell_type": "code",
   "execution_count": 10,
   "id": "49881354",
   "metadata": {},
   "outputs": [
    {
     "data": {
      "text/plain": [
       "0.30000000000000004"
      ]
     },
     "execution_count": 10,
     "metadata": {},
     "output_type": "execute_result"
    }
   ],
   "source": [
    "0.4-0.1"
   ]
  },
  {
   "cell_type": "code",
   "execution_count": 18,
   "id": "7d035748",
   "metadata": {},
   "outputs": [
    {
     "data": {
      "text/plain": [
       "0.3"
      ]
     },
     "execution_count": 18,
     "metadata": {},
     "output_type": "execute_result"
    }
   ],
   "source": [
    "0.5-0.2"
   ]
  },
  {
   "cell_type": "code",
   "execution_count": null,
   "id": "b6d3a4ec",
   "metadata": {},
   "outputs": [],
   "source": []
  }
 ],
 "metadata": {
  "kernelspec": {
   "display_name": "Python 3",
   "language": "python",
   "name": "python3"
  },
  "language_info": {
   "codemirror_mode": {
    "name": "ipython",
    "version": 3
   },
   "file_extension": ".py",
   "mimetype": "text/x-python",
   "name": "python",
   "nbconvert_exporter": "python",
   "pygments_lexer": "ipython3",
   "version": "3.9.4"
  }
 },
 "nbformat": 4,
 "nbformat_minor": 5
}
