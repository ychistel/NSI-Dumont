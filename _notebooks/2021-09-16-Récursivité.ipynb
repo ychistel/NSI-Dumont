{
 "cells": [
  {
   "cell_type": "markdown",
   "id": "52a2fd79",
   "metadata": {},
   "source": [
    "# \"Récursivité\"\n",
    "\n",
    "> \"Cours sur les fonctions récursives\"\n",
    "\n",
    "- toc : true\n",
    "- categories: [Langage de programmation]"
   ]
  },
  {
   "cell_type": "markdown",
   "id": "63054e52",
   "metadata": {},
   "source": [
    "## Définition\n",
    "Une fonction récursive est une fonction qui s'appelle elle-même.\n",
    "\n",
    "![image](../images/vache111.jpg)"
   ]
  },
  {
   "cell_type": "code",
   "execution_count": null,
   "id": "a46a868e",
   "metadata": {},
   "outputs": [],
   "source": []
  }
 ],
 "metadata": {
  "kernelspec": {
   "display_name": "Python 3",
   "language": "python",
   "name": "python3"
  },
  "language_info": {
   "codemirror_mode": {
    "name": "ipython",
    "version": 3
   },
   "file_extension": ".py",
   "mimetype": "text/x-python",
   "name": "python",
   "nbconvert_exporter": "python",
   "pygments_lexer": "ipython3",
   "version": "3.7.3"
  }
 },
 "nbformat": 4,
 "nbformat_minor": 5
}
