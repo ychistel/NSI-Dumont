{
 "cells": [
  {
   "cell_type": "markdown",
   "id": "82d219c4",
   "metadata": {},
   "source": [
    "---\n",
    "- title : Composer avec fastai\n",
    "- summary : apprendre à utiliser les subtilités de cette application pour publier des notebook jupyter\n",
    "- toc : true\n",
    "---"
   ]
  },
  {
   "cell_type": "markdown",
   "id": "bf057a41",
   "metadata": {},
   "source": [
    "> Warning : attention un message d'alerte"
   ]
  },
  {
   "cell_type": "code",
   "execution_count": null,
   "id": "3b08a369",
   "metadata": {},
   "outputs": [],
   "source": []
  }
 ],
 "metadata": {
  "kernelspec": {
   "display_name": "Python 3",
   "language": "python",
   "name": "python3"
  },
  "language_info": {
   "codemirror_mode": {
    "name": "ipython",
    "version": 3
   },
   "file_extension": ".py",
   "mimetype": "text/x-python",
   "name": "python",
   "nbconvert_exporter": "python",
   "pygments_lexer": "ipython3",
   "version": "3.9.4"
  }
 },
 "nbformat": 4,
 "nbformat_minor": 5
}
