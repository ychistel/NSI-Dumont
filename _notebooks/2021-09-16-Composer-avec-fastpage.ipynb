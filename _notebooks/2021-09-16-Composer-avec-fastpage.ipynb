{
 "cells": [
  {
   "cell_type": "markdown",
   "id": "ea3c56cf",
   "metadata": {},
   "source": [
    "\n",
    "# Composer avec fastai\n",
    "> apprendre à utiliser les subtilités de cette application pour publier des notebook jupyter\n",
    "\n",
    "- toc : true\n",
    "---"
   ]
  },
  {
   "cell_type": "markdown",
   "id": "16c99546",
   "metadata": {},
   "source": [
    "## Modifier la citatation important\n",
    "\n",
    "Dans le dossier \\_includes, on retrouve le template *importatnt.html* qui permet d'afficher la citation répertoriée important."
   ]
  },
  {
   "cell_type": "markdown",
   "id": "7337c6c5",
   "metadata": {},
   "source": [
    "> Warning: \n",
    "1. numero 1\n",
    "2. numero 2"
   ]
  },
  {
   "cell_type": "markdown",
   "id": "2ff29057",
   "metadata": {},
   "source": [
    "> Info: ceci est une Info!"
   ]
  },
  {
   "cell_type": "markdown",
   "id": "10ff10e8",
   "metadata": {},
   "source": [
    "> info: ceci est une info!"
   ]
  },
  {
   "cell_type": "markdown",
   "id": "7e5272b5",
   "metadata": {},
   "source": []
  }
 ],
 "metadata": {
  "kernelspec": {
   "display_name": "Python 3",
   "language": "python",
   "name": "python3"
  },
  "language_info": {
   "codemirror_mode": {
    "name": "ipython",
    "version": 3
   },
   "file_extension": ".py",
   "mimetype": "text/x-python",
   "name": "python",
   "nbconvert_exporter": "python",
   "pygments_lexer": "ipython3",
   "version": "3.9.4"
  }
 },
 "nbformat": 4,
 "nbformat_minor": 5
}
