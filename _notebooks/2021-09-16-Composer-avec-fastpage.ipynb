{
 "cells": [
  {
   "cell_type": "markdown",
   "id": "562ad6bd",
   "metadata": {},
   "source": [
    "---\n",
    "title : Composer avec fastai\n",
    "summary : apprendre à utiliser les subtilités de cette application pour publier des notebook jupyter\n",
    "\n",
    "- toc : true\n",
    "---"
   ]
  },
  {
   "cell_type": "markdown",
   "id": "bb3f54b9",
   "metadata": {},
   "source": [
    "> Warning: There will be no second warning!\n",
    "\n",
    "> Info: ceci est un exemple!"
   ]
  },
  {
   "cell_type": "code",
   "execution_count": null,
   "id": "a3887dd5",
   "metadata": {},
   "outputs": [],
   "source": []
  }
 ],
 "metadata": {
  "kernelspec": {
   "display_name": "Python 3",
   "language": "python",
   "name": "python3"
  },
  "language_info": {
   "codemirror_mode": {
    "name": "ipython",
    "version": 3
   },
   "file_extension": ".py",
   "mimetype": "text/x-python",
   "name": "python",
   "nbconvert_exporter": "python",
   "pygments_lexer": "ipython3",
   "version": "3.9.4"
  }
 },
 "nbformat": 4,
 "nbformat_minor": 5
}
