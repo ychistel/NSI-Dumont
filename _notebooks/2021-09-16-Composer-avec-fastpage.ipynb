{
 "cells": [
  {
   "cell_type": "markdown",
   "id": "ea3c56cf",
   "metadata": {},
   "source": [
    "\n",
    "# Composer avec fastai\n",
    "> apprendre à utiliser les subtilités de cette application pour publier des notebook jupyter\n",
    "\n",
    "- toc : true\n",
    "---"
   ]
  },
  {
   "cell_type": "markdown",
   "id": "f6343f65",
   "metadata": {},
   "source": [
    "## Modifier la citation important\n",
    "\n",
    "Dans le dossier \\_includes, on retrouve le template *important.html* qui permet d'afficher la citation répertoriée important."
   ]
  },
  {
   "cell_type": "markdown",
   "id": "b8aa7811",
   "metadata": {},
   "source": [
    "> Note: un exercice"
   ]
  },
  {
   "cell_type": "markdown",
   "id": "70864b04",
   "metadata": {},
   "source": [
    "> Tip: Solution"
   ]
  },
  {
   "cell_type": "markdown",
   "id": "2ff29057",
   "metadata": {},
   "source": [
    "\n",
    "> Warning: ceci est une alerte!\n",
    "on écrit sur plusieurs lignes.\n",
    "Reste à savoir si tout est écrit dans la même div.\n",
    "\n",
    "Avec un saut de ligne en prime!\n"
   ]
  },
  {
   "cell_type": "markdown",
   "id": "d11ce973",
   "metadata": {},
   "source": [
    "{% include info.html text=\"Info\" %}"
   ]
  },
  {
   "cell_type": "code",
   "execution_count": 2,
   "id": "6644d447",
   "metadata": {},
   "outputs": [],
   "source": [
    "def remise(x,y):\n",
    "    return x*(1-y/100)"
   ]
  },
  {
   "cell_type": "code",
   "execution_count": 3,
   "id": "892d26ee",
   "metadata": {},
   "outputs": [
    {
     "data": {
      "text/plain": [
       "80.0"
      ]
     },
     "execution_count": 3,
     "metadata": {},
     "output_type": "execute_result"
    }
   ],
   "source": [
    "remise(100,20)"
   ]
  },
  {
   "cell_type": "code",
   "execution_count": null,
   "id": "dac53436",
   "metadata": {},
   "outputs": [],
   "source": []
  }
 ],
 "metadata": {
  "kernelspec": {
   "display_name": "Python 3",
   "language": "python",
   "name": "python3"
  },
  "language_info": {
   "codemirror_mode": {
    "name": "ipython",
    "version": 3
   },
   "file_extension": ".py",
   "mimetype": "text/x-python",
   "name": "python",
   "nbconvert_exporter": "python",
   "pygments_lexer": "ipython3",
   "version": "3.9.4"
  }
 },
 "nbformat": 4,
 "nbformat_minor": 5
}
