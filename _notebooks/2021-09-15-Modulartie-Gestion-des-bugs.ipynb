{
 "cells": [
  {
   "cell_type": "markdown",
   "id": "b33602d5",
   "metadata": {},
   "source": [
    "# \"Modularité - Gestion des bugs\"\n",
    "\n",
    "> \"La modularité des programmes, la documentation et la gestion des bugs.\"\n",
    "\n",
    "- toc : true\n",
    "- categories : [Langage de programmation, Modularité]"
   ]
  },
  {
   "cell_type": "markdown",
   "id": "70f24502",
   "metadata": {},
   "source": [
    "## Introduction\n",
    "\n",
    "Un programme, quel que soit le langage de programmation utilisé, c'est :\n",
    "- de très nombreuses, plusieurs milliers, lignes de code;\n",
    "- plusieurs fichiers et dossiers;\n",
    "- écrit par plusieurs personnes (développeurs, graphistes, spécialistes);\n",
    "- avoir recours à des programmes déjà existants;\n",
    "- plusieurs versions au cours du développement (version de production et versions de développement);\n",
    "- des bugs inconnus, non encore découverts.\n",
    "\n",
    "Le développement d'un programme est un projet à long terme. Au fil du temps, selon l'intérêt qu'il suscite, celui-ci va grossir, se développer. Il arrive donc un moment ou l'organisation de ce projet doit être solide et clair pour que les développeurs s'y retrouvent, ne perdent pas leur temps à chercher qui fait quoi, ne pas recréer ce qui existe déjà, améliorer rapidement le code et corriger les bugs découverts.\n",
    "\n",
    "La réussite d'un tel projet s'appuie sur des pratiques essentielles dont:\n",
    "1. La modularité\n",
    "2. La documentation\n",
    "3. Les tests"
   ]
  },
  {
   "attachments": {},
   "cell_type": "markdown",
   "id": "0c0256e6",
   "metadata": {},
   "source": [
    "## Modularité\n",
    "\n",
    "L'intérêt d'utiliser la modularité se décline en plusieurs raisons:\n",
    "- réutiliser des programmes ou des fonctions dans plusieurs programmes;\n",
    "- simplifier l'écriture d'un programme en les rendant plus lisibles et courts;\n",
    "- éviter de recréer des fonctions ou des programmes existants avec le risque de produire des erreurs (bugs);\n",
    "- en cas de bug sur une fonction, on corrige le module sans avoir à corriger tous les programmes qui utilisent cette fonction.\n",
    "\n",
    "En Python, un programme peut utiliser les fonctions d'un autre programme appelé alors **module** (ou librairie). Ce module contient des fonctions qui seront utilisées par d'autres programmes.\n",
    "\n",
    "![module.png](img/module.png)\n",
    "\n",
    "La syntaxe pour importer un module en Python est la suivante:\n",
    "- `import module` ce qui implique de préfixer les fonctions du module par le nom du module;\n",
    "- `from module import fonctions` qui permet d'appeler les fonctions sans préfixe;\n",
    "- `import module as alias` qui permet d'employer un alias si le nom de module est trop long.\n",
    "\n",
    "#### Remarque\n",
    "Même s'il est possible d'importer les fonctions d'un module avec la syntaxe `from module import *`, celle-ci est fortement déconseillée pour éviter des erreurs. Le risque, en cas d'import de plusieurs modules, est d'avoir des fonctions qui ont le même nom et donc provoquer un conflit entre elles."
   ]
  },
  {
   "cell_type": "markdown",
   "id": "6560e594",
   "metadata": {},
   "source": [
    "### Exercice\n",
    "\n",
    "On utilisera l'éditeur **Thonny** pour cet exercice.\n",
    "1. Créer deux fichiers, dans un même doissier, nommés *calcul.py* et *commerce.py*.\n",
    "2. Le fichier *calcul.py* est un module contenant des fonctions de calculs.    \n",
    "Créer la fonction **remise** acceptant en argument 2 nombres réels *x* et *y* et qui renvoie la valeur *x* diminuée de *y*%.\n",
    "3. Le fichier *commerce.py* est un programme qui utilise les fonctions du **module** *calcul.py*. Ce programme doit calculer une remise de *n*% sur tous les prix contenus dans un **tuple**. \n",
    "Les valeurs remisées seront enregistrées dans une **liste**.      \n",
    "Par exemple, pour une remise de 25 % sur les prix `(20,50,100)`, on obtient après exécution du programme la liste `[15.0, 37.5, 75.0]`.\n",
    "\n",
    "---"
   ]
  },
  {
   "cell_type": "markdown",
   "id": "3d18a226",
   "metadata": {},
   "source": [
    "### Le module est un programme\n",
    "\n",
    "Les programmes doivent pouvoir s'exécuter sur une machine sans avoir à ouvrir l'éditeur ou l'interpréteur Python.\n",
    "\n",
    "Par exemple, le programme *commerce.py* doit pouvoir être exécuté depuis une console en saisissant la commande `python commerce.py`.\n",
    "\n",
    "Un module est appelé par les autres programmes, mais c'est aussi un programme qui doit pouvoir s'exécuter. \n",
    "\n",
    "Par exemple, en console, on doit pouvoir exécuter le module *calcul.py*.\n",
    "\n",
    "#### Remarque\n",
    "\n",
    "Il est fort probable que tout ne se passe pas comme attendu. On va donc commenter et examiner ce qui se passe ou pas.\n",
    "\n",
    "### Exercice\n",
    "\n",
    "1. Vérifiez que vos programmes s'exécutent en console.  \n",
    "2. Ajouter dans le module *calcul.py* un appel de la fonction **remise** puis un affichage du résultat. Relancez le programme en console.\n",
    "3. Exécutez à nouveau le programme *commerce.py*. Que remarquez-vous ?\n",
    "---"
   ]
  },
  {
   "cell_type": "markdown",
   "id": "6a9230a6",
   "metadata": {},
   "source": [
    "On quitte la console et on poursuit avec l'éditeur Thonny. En Python, il existe une fonction, **locals**, qui renvoie un dictionnaire contenant les variables, les fonctions et les modules utilisés par le programme. \n",
    "\n",
    "Le dictionnaire affiché dépend du programme en cours d'exécution. Il faut donc être attentif au programme interprété.\n",
    "\n",
    "La variable **\\_\\_name\\_\\_** contient la valeur **\\_\\_main\\_\\_** (principal en français). Elle renseigne l'interpréteur sur le programme en cours.\n",
    "\n",
    "Lorsqu'un module est importé, celui-ci contient aussi une variable **\\_\\_name\\_\\_** dont la valeur est le nom du module. Cela va donc nous permettre de faire un test pour exécuter ou non un programme.\n",
    "\n",
    "On donne le code d'un programme principal qui est exécuté en important un module.\n",
    "\n",
    "```python\n",
    "import module\n",
    "\n",
    "if __name__ == '__main__':\n",
    "    print(\"Le programme principal est exécuté.\")\n",
    "```\n",
    "\n",
    "Le code du module importé est le suivant:\n",
    "\n",
    "```python\n",
    "if __name__ == '__main__':\n",
    "    print(\"Le module est exécuté.\")\n",
    "```\n",
    "\n",
    "#### Programme principal exécuté\n",
    "Lorsque le programme principal est exécuté, le module est importé et la variale **module.\\_\\_name\\_\\_** a pour valeur le nom du module, donc différent de **\\_\\_main\\_\\_**. \n",
    "\n",
    "En conséquence l'affichage *Le module est exécuté.* ne se fait pas. \n",
    "\n",
    "La variable **\\_\\_name\\_\\_** du programme principal a pour valeur **\\_\\_main\\_\\_** donc l'affichage *Le programme principal est exécuté.* se réalise.\n",
    "\n",
    "#### Module exécuté\n",
    "Lorsque le module est exécuté en tant que programme, la variable **\\_\\_name\\_\\_** a pour valeur **\\_\\_main\\_\\_** et alors l'affichage *Le module est exécuté.* est réalisé."
   ]
  },
  {
   "cell_type": "markdown",
   "id": "cb47f5a6",
   "metadata": {},
   "source": [
    "### Exercice\n",
    "\n",
    "Modifiez vos programmes *calcul.py* et *commerce.py*.\n",
    "\n",
    "---"
   ]
  },
  {
   "cell_type": "markdown",
   "id": "17e7bfa9",
   "metadata": {},
   "source": [
    "## Documentation\n",
    "\n",
    "La documentation est essentielle pour le développeur lui-même et aussi pour toutes les personnes qui reprendront le code. Elle doit si possible:\n",
    "- être claire, compréhensible et courte mais détaillée;\n",
    "- expliquer ce que fait un programme, une fonction ou un objet;\n",
    "- indiquer le rôle des variables, les paramètres d'une fonction, les attributs d'un objet;\n",
    "- renseigner le type des variables, paramètres des fonctions, attributs des objets et des valeurs renvoyées.\n",
    "\n",
    "Cette documentation sera accessible par les développeurs et les utilisateurs du code. En python, la fonction **help** prend en argument un nom de variable, nom d'objet, nom de fonction ou nom de module sous la forme d'une chaine de caratère et renvoie la documentation disponible. Si on saisit dans l'interpréteur python la fonction **help** sans argument, celui-ci bascule sur une aide interactive qui propose un **prompt** en attente de saisie. Pour quitter cette aide, il sufffit de taper sur la touche entrée.\n",
    "\n",
    "En Python, la documentation est directement insérée dans le code dans une **docstring**, c'est à dire une chaine de caractères contenue dans des **triples guillemets**.\n",
    "\n",
    "```python\n",
    "\"\"\"Ceci est une docstring pour la documentation ...\"\"\"\n",
    "```\n",
    "\n",
    "#### Exercice\n",
    "\n",
    "1. Insérer une description du module calcul dans le fichier *calcul.py* et vérifier sa visibilité avec la fonction **help**. De même avec le fichier *commerce.py*.\n",
    "2. Insérer une description dans la foncion remise qui donne:\n",
    "    - les valeurs à insérer\n",
    "    - la valeur renvoyée\n",
    "Vérifier l'affichage de la documentation avec **help**."
   ]
  },
  {
   "cell_type": "markdown",
   "id": "820772ae",
   "metadata": {},
   "source": [
    "### Typage des valeurs\n",
    "\n",
    "Python permet de typer les variables et les paramètres des fonctions. Il suffit de placer juste après la variable ou le paramètre son type séparé par **:**. Par exemple `x:int` informe que *x* est une une variable de type nombre entier.\n",
    "\n",
    "Il est également possible d'indiquer le type de la valeur renvoyée par une fonction en insérant une flèche **->** suivie du type. Par exemple `def ma_fonction(x:int) -> float`.\n",
    "\n",
    "#### Remarque\n",
    "Cette information ne contrôle pas le type de la variable et donc ne remplce pas un contrôle de ce type par un test."
   ]
  },
  {
   "cell_type": "markdown",
   "id": "709a055f",
   "metadata": {},
   "source": [
    "### Exercice\n",
    "1. Ajouter le typage des arguments de la fonction **remise** ainsi que le type de la valeur renvoyée.\n",
    "2. Afficher la documentation de la fonction remise. Que remarquez-vous ?\n",
    "3. Ajoutez le typage de la variable **prix** puis affichez sa documentation. Que remarquez-vous ?"
   ]
  },
  {
   "cell_type": "markdown",
   "id": "ffcf9e32",
   "metadata": {},
   "source": [
    "## Les tests\n",
    "\n",
    "Le développement nécessite de vérifier régulièrement son code, que ce soit dans sa syntaxe ou dans les valeurs produites par celui-ci. Concernant la syntaxe, Python intègre un vérificateur syntaxique qui signela la moindre erreur comme les erreurs d'indentation.\n",
    "\n",
    "Les erreurs liées à l'exécution d'une fonction qui ne renvoeint pas valeurs correctes sont souvent corrigées pendant le développement. Néanmoins, une erreur peut survenir bien après nécessitant un correctif. Cette correction peut avoir des effets indésirables sans qu'on s'en rende immédiatement compte.\n",
    "\n",
    "Pour éviter une telle situation, il est utile d'insérer des tests qui seront vérifiés après avoir corrigé son code.\n",
    "En Python, il existe une instruction **assert** qui lève une exception si la condition qui suit est fausse. Si la condition est vérifiée, l'exécution du code se poursuit.\n",
    "\n",
    "#### Exemple\n",
    "On peut créer une instruction **assert** qui vérifie la valeur poisitive d'un nombre.\n",
    "\n",
    "```python\n",
    "x=-1\n",
    "assert x>0\n",
    "```\n",
    "- si le nombre est positif, le code se poursuit;\n",
    "- si le nombre est négatif ou nul, une erreur **AssertionError** est renvoyée et le code s'interrompt.\n",
    "\n",
    "---\n",
    "\n",
    "Il est possible de préciser la nature de l'erreur par un message.\n",
    "\n",
    "#### Exemple\n",
    "\n",
    "```python\n",
    "x=-1\n",
    "assert x>0,\"nombre x négatif ou nul\"\n",
    "```"
   ]
  },
  {
   "cell_type": "markdown",
   "id": "b3a6da40",
   "metadata": {},
   "source": [
    "### Exercice\n",
    "\n",
    "1. Insérer un test dans la fonction remise qui vérifie que les valeurs saisies sont bien positives ou nulles\n",
    "2. Insérer un test qui vérifie que les valeurs prix et pourcentage saisis sont bien des nombres.\n",
    "\n",
    "---"
   ]
  },
  {
   "cell_type": "markdown",
   "id": "b953e87f",
   "metadata": {},
   "source": [
    "#### Remarque\n",
    "\n",
    "Les tests qui vérifient les valeurs d'un programme peuvent être traitées par le code lui-même avec structures conditionnelles.\n",
    "\n",
    "### Fonctions de test\n",
    "\n",
    "Lorsqu'on a créé une fonction, on peut écrire une série de tests qui vérifient que la fonction renvoie toujours la même valeur pour les valeurs passées en argument. C'est notamment utile pour des valeurs particulières dont on sait qu'elles peuvent provoquer une erreur. De plus, si on effectue une modification sur la fonction, on est alors informé si la fonction continue de renvoyer les valeurs attendues.\n",
    "\n",
    "#### Exemple\n",
    "La fonction **remise** du module **calcul** renvoie toujours la même valeur si on passe en argument un prix égal à 100 euros et une remise de 20%. Donc on peut écrire une instruction qui le vérifie.\n",
    "\n",
    "```python\n",
    "if '__name__' == '__main__':\n",
    "    assert remise(100,20) == 80\n",
    "```\n",
    "\n",
    "Notre programme peut même insérer une fonction regroupant tous les tests sur les fonctions du programme (module).\n",
    "Cette fonction sera appelée à l'exécution du programme puis mis en commentaire tant que des modifications ne sont pas effectuées sur le programme.\n",
    "\n",
    "#### Exemple\n",
    "```python\n",
    "def tests():\n",
    "    assert remise(100,20) == 80\n",
    "    assert remise(0,0) == 0\n",
    "    assert remise(100,0) == 100\n",
    "    \n",
    "if '__name__' == '__main__':\n",
    "    tests()\n",
    "```"
   ]
  },
  {
   "cell_type": "markdown",
   "id": "31b1a5b2",
   "metadata": {},
   "source": [
    "### Exercice\n",
    "Écrire une fonction de test qui vérifie au moins 5 valeurs sur la fonction remise du module calcul.\n",
    "\n",
    "---"
   ]
  }
 ],
 "metadata": {
  "kernelspec": {
   "display_name": "Python 3",
   "language": "python",
   "name": "python3"
  },
  "language_info": {
   "codemirror_mode": {
    "name": "ipython",
    "version": 3
   },
   "file_extension": ".py",
   "mimetype": "text/x-python",
   "name": "python",
   "nbconvert_exporter": "python",
   "pygments_lexer": "ipython3",
   "version": "3.9.4"
  }
 },
 "nbformat": 4,
 "nbformat_minor": 5
}
