{
 "cells": [
  {
   "cell_type": "markdown",
   "id": "f245f361",
   "metadata": {},
   "source": [
    "# \"Document premier\"\n",
    "> \"Y Chistel\"\n",
    "\n",
    "- toc:true\n",
    "- author Yannick Chistel\n",
    "- categories:[jupyter]"
   ]
  },
  {
   "cell_type": "code",
   "execution_count": 1,
   "id": "42e40c4d",
   "metadata": {},
   "outputs": [
    {
     "name": "stdout",
     "output_type": "stream",
     "text": [
      "Premier document\n"
     ]
    }
   ],
   "source": [
    "print('Premier document')"
   ]
  },
  {
   "cell_type": "code",
   "execution_count": null,
   "id": "2e3aeb43",
   "metadata": {},
   "outputs": [],
   "source": []
  }
 ],
 "metadata": {
  "kernelspec": {
   "display_name": "Python 3",
   "language": "python",
   "name": "python3"
  },
  "language_info": {
   "codemirror_mode": {
    "name": "ipython",
    "version": 3
   },
   "file_extension": ".py",
   "mimetype": "text/x-python",
   "name": "python",
   "nbconvert_exporter": "python",
   "pygments_lexer": "ipython3",
   "version": "3.9.4"
  }
 },
 "nbformat": 4,
 "nbformat_minor": 5
}
